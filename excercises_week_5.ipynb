{
  "nbformat": 4,
  "nbformat_minor": 0,
  "metadata": {
    "colab": {
      "provenance": []
    },
    "kernelspec": {
      "name": "python3",
      "display_name": "Python 3"
    },
    "language_info": {
      "name": "python"
    }
  },
  "cells": [
    {
      "cell_type": "markdown",
      "source": [
        "Exercise 1 \\\n",
        "Write a program that:\n",
        "+ Prompts the user to enter a series of numbers separated by spaces.\n",
        "+ Converts the input into a list of integers.\n",
        "Displays the list, its length, and the largest and smallest numbers in the list."
      ],
      "metadata": {
        "id": "XnP8IBJhyODt"
      }
    },
    {
      "cell_type": "code",
      "execution_count": 1,
      "metadata": {
        "colab": {
          "base_uri": "https://localhost:8080/",
          "height": 53
        },
        "id": "LAgfOaCBxMUH",
        "outputId": "07c26df6-b58a-4fdb-c55c-84922b9d4aa7"
      },
      "outputs": [
        {
          "name": "stdout",
          "output_type": "stream",
          "text": [
            "Enter a series of numbers separated by spaces: 1 5 4 8 6 9\n"
          ]
        },
        {
          "output_type": "execute_result",
          "data": {
            "text/plain": [
              "'the list is [1, 5, 4, 8, 6, 9], its length is 6, the largest number is 9 and the smallest number is 1'"
            ],
            "application/vnd.google.colaboratory.intrinsic+json": {
              "type": "string"
            }
          },
          "metadata": {},
          "execution_count": 1
        }
      ],
      "source": [
        "numbers = input(\"Enter a series of numbers separated by spaces: \")\n",
        "numbers_list = numbers.split()\n",
        "numbers_list = [int(i) for i in numbers_list]\n",
        "f'the list is {numbers_list}, its length is {len(numbers_list)}, the largest number is {max(numbers_list)} and the smallest number is {min(numbers_list)}'"
      ]
    },
    {
      "cell_type": "markdown",
      "source": [
        "Exercise 2 \\\n",
        "Write a program that:\n",
        "+ Creates a tuple with five elements (hardcoded).\n",
        "+ Unpacks the tuple into separate variables and displays each variable."
      ],
      "metadata": {
        "id": "DeH-9YKcy6Nk"
      }
    },
    {
      "cell_type": "code",
      "source": [
        "(a, b, c, d, e) = (1, 2, 3, 4, 5)\n",
        "\n",
        "f'a is {a}, b is {b}, c is {c}, d is {d} and e is {e}'"
      ],
      "metadata": {
        "colab": {
          "base_uri": "https://localhost:8080/",
          "height": 35
        },
        "id": "i1ei2-cry_aC",
        "outputId": "dcf965ff-f935-42b5-e0ff-9f1128d70ab1"
      },
      "execution_count": 4,
      "outputs": [
        {
          "output_type": "execute_result",
          "data": {
            "text/plain": [
              "'a is 1, b is 2, c is 3, d is 4 and e is 5'"
            ],
            "application/vnd.google.colaboratory.intrinsic+json": {
              "type": "string"
            }
          },
          "metadata": {},
          "execution_count": 4
        }
      ]
    },
    {
      "cell_type": "markdown",
      "source": [
        "Exercise 3 \\\n",
        "Write a program that:\n",
        "+ Asks the user to input two sets of numbers separated by commas.\n",
        "+ Converts the inputs into sets and performs the following operations:\n",
        "  + Union\n",
        "  + Intersection\n",
        "  + ifference (first set minus the second)"
      ],
      "metadata": {
        "id": "U0pbY16mze5b"
      }
    },
    {
      "cell_type": "code",
      "source": [
        "set1 = input(\"Enter a set of numbers separated by commas: \")\n",
        "set2 = input(\"Enter a set of numbers separated by commas: \")\n",
        "set1 = set([int(i) for i in set1.split(',')])\n",
        "set2 = set([int(i) for i in set2.split(',')])\n",
        "f'the union of the two sets is {set1.union(set2)}, the intersection of the two sets is {set1.intersection(set2)} and the difference of the two sets is {set1.difference(set2)}'"
      ],
      "metadata": {
        "colab": {
          "base_uri": "https://localhost:8080/",
          "height": 70
        },
        "id": "4JD18NQjzKqf",
        "outputId": "837b847d-a239-41eb-9c87-2b22017217e0"
      },
      "execution_count": 15,
      "outputs": [
        {
          "name": "stdout",
          "output_type": "stream",
          "text": [
            "Enter a set of numbers separated by commas: 4,5,6\n",
            "Enter a set of numbers separated by commas: 2,4,9\n"
          ]
        },
        {
          "output_type": "execute_result",
          "data": {
            "text/plain": [
              "'the union of the two sets is {2, 4, 5, 6, 9}, the intersection of the two sets is {4} and the difference of the two sets is {5, 6}'"
            ],
            "application/vnd.google.colaboratory.intrinsic+json": {
              "type": "string"
            }
          },
          "metadata": {},
          "execution_count": 15
        }
      ]
    },
    {
      "cell_type": "markdown",
      "source": [
        "Exercise 4 \\\n",
        "Write a program that:\n",
        "+ Prompts the user to input a series of key-value pairs in the format key:value separated by commas.\n",
        "+ Converts the input into a dictionary and displays it."
      ],
      "metadata": {
        "id": "phI_flHl0TaO"
      }
    },
    {
      "cell_type": "code",
      "source": [
        "dicc = input('Enter a series of key-value pairs in the format key:value separated by commas: ')\n",
        "dicc = {i.split(':')[0]:i.split(':')[1] for i in dicc.split(',')}\n",
        "print(dicc)"
      ],
      "metadata": {
        "colab": {
          "base_uri": "https://localhost:8080/"
        },
        "id": "8fCsVeT50Yfd",
        "outputId": "519163f6-39e2-4d6f-8be8-db0bab359113"
      },
      "execution_count": 17,
      "outputs": [
        {
          "output_type": "stream",
          "name": "stdout",
          "text": [
            "Enter a series of key-value pairs in the format key:value separated by commas: col:james,arg:messi,bra:neymar\n",
            "{'col': 'james', 'arg': 'messi', 'bra': 'neymar'}\n"
          ]
        }
      ]
    },
    {
      "cell_type": "markdown",
      "source": [
        "Exercise 5 \\\n",
        "Write a program that:\n",
        "Prompts the user to enter a sentence.\n",
        "+ Uses a dictionary to count and display the frequency of each word in the sentence."
      ],
      "metadata": {
        "id": "3hyCn6iz2uxW"
      }
    },
    {
      "cell_type": "code",
      "source": [
        "sentence = input('Enter a sentence: ')\n",
        "words = sentence.split()\n",
        "count = {word: words.count(word) for word in words}\n",
        "print(count)"
      ],
      "metadata": {
        "colab": {
          "base_uri": "https://localhost:8080/"
        },
        "id": "0njRuZvY26Cr",
        "outputId": "ec91ced5-3698-463a-b97c-4b6ffda6d570"
      },
      "execution_count": 25,
      "outputs": [
        {
          "output_type": "stream",
          "name": "stdout",
          "text": [
            "Enter a sentence: hola hola hola\n",
            "{'hola': 3}\n"
          ]
        }
      ]
    }
  ]
}