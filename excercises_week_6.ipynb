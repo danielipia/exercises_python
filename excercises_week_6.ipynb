{
  "nbformat": 4,
  "nbformat_minor": 0,
  "metadata": {
    "colab": {
      "provenance": []
    },
    "kernelspec": {
      "name": "python3",
      "display_name": "Python 3"
    },
    "language_info": {
      "name": "python"
    }
  },
  "cells": [
    {
      "cell_type": "markdown",
      "source": [
        "Exercise 1 \\\n",
        "Write a recursive function factorial(n) that:\n",
        "+ Takes a single parameter n (an integer).\n",
        "Returns the factorial of n."
      ],
      "metadata": {
        "id": "XnP8IBJhyODt"
      }
    },
    {
      "cell_type": "code",
      "execution_count": 2,
      "metadata": {
        "colab": {
          "base_uri": "https://localhost:8080/"
        },
        "id": "LAgfOaCBxMUH",
        "outputId": "9452d16c-336a-4bc4-9f62-23491aae06a5"
      },
      "outputs": [
        {
          "output_type": "execute_result",
          "data": {
            "text/plain": [
              "120"
            ]
          },
          "metadata": {},
          "execution_count": 2
        }
      ],
      "source": [
        "def factorial(n):\n",
        "    if n == 0:\n",
        "        return 1\n",
        "    else:\n",
        "        return n * factorial(n-1)\n",
        "\n",
        "factorial(5)"
      ]
    },
    {
      "cell_type": "markdown",
      "source": [
        "Exercise 2 \\\n",
        "Write a function is_prime(n) that:\n",
        "+ Takes a single parameter n (an integer).\n",
        "+ Returns True if the number is prime, otherwise False."
      ],
      "metadata": {
        "id": "DeH-9YKcy6Nk"
      }
    },
    {
      "cell_type": "code",
      "source": [
        "def is_prime(n):\n",
        "    if n <= 1:\n",
        "        return False\n",
        "    for i in range(2, n):\n",
        "        if n % i == 0:\n",
        "            return False\n",
        "    return True\n",
        "\n",
        "is_prime(97)"
      ],
      "metadata": {
        "colab": {
          "base_uri": "https://localhost:8080/"
        },
        "id": "i1ei2-cry_aC",
        "outputId": "5d77f969-bd66-46f3-ff71-820105dd91e0"
      },
      "execution_count": 8,
      "outputs": [
        {
          "output_type": "execute_result",
          "data": {
            "text/plain": [
              "True"
            ]
          },
          "metadata": {},
          "execution_count": 8
        }
      ]
    },
    {
      "cell_type": "markdown",
      "source": [
        "Exercise 3 \\\n",
        "Write a function power(base, exponent=2) that:\n",
        "+ Takes two parameters: base (a number) and exponent (a number, default is 2).\n",
        "+ Returns the result of raising base to the power of exponent."
      ],
      "metadata": {
        "id": "U0pbY16mze5b"
      }
    },
    {
      "cell_type": "code",
      "source": [
        "def power(base, exponent=2):\n",
        "    return base ** exponent\n",
        "\n",
        "power(2, 3)\n",
        "power(5)"
      ],
      "metadata": {
        "colab": {
          "base_uri": "https://localhost:8080/"
        },
        "id": "4JD18NQjzKqf",
        "outputId": "739b7a04-274a-49c9-de38-a82218ce9e2e"
      },
      "execution_count": 10,
      "outputs": [
        {
          "output_type": "execute_result",
          "data": {
            "text/plain": [
              "25"
            ]
          },
          "metadata": {},
          "execution_count": 10
        }
      ]
    },
    {
      "cell_type": "markdown",
      "source": [
        "Exercise 4 \\\n",
        "Write a function find_max(numbers) that:\n",
        "+ Takes a single parameter numbers (a list of integers or floats).\n",
        "+ Returns the largest number in the list."
      ],
      "metadata": {
        "id": "phI_flHl0TaO"
      }
    },
    {
      "cell_type": "code",
      "source": [
        "def find_max(numbers):\n",
        "    max_number = numbers[0]\n",
        "    for number in numbers:\n",
        "        if number > max_number:\n",
        "            max_number = number\n",
        "    return max_number\n",
        "\n",
        "find_max([1, 2, 3, 4, 5])"
      ],
      "metadata": {
        "colab": {
          "base_uri": "https://localhost:8080/"
        },
        "id": "8fCsVeT50Yfd",
        "outputId": "65911c9e-33ca-49d1-e983-3e2bff6e877a"
      },
      "execution_count": 12,
      "outputs": [
        {
          "output_type": "execute_result",
          "data": {
            "text/plain": [
              "5"
            ]
          },
          "metadata": {},
          "execution_count": 12
        }
      ]
    },
    {
      "cell_type": "markdown",
      "source": [
        "Exercise 5\n",
        "Write a function fibonacci(n) that:\n",
        "+ Takes a single parameter n (an integer).\n",
        "+ Returns a list containing the first n numbers in the Fibonacci sequence."
      ],
      "metadata": {
        "id": "3hyCn6iz2uxW"
      }
    },
    {
      "cell_type": "code",
      "source": [
        "def fibonacci(n):\n",
        "    fib_num = [0,1]\n",
        "    for i in range(1,n):\n",
        "        sum = fib_num[i-1] + fib_num[i]\n",
        "        fib_num.append(sum)\n",
        "    return fib_num\n",
        "\n",
        "fibonacci(5)"
      ],
      "metadata": {
        "colab": {
          "base_uri": "https://localhost:8080/"
        },
        "id": "0njRuZvY26Cr",
        "outputId": "6153c776-1620-410c-c763-8d3e4996e1dd"
      },
      "execution_count": 19,
      "outputs": [
        {
          "output_type": "execute_result",
          "data": {
            "text/plain": [
              "[0, 1, 1, 2, 3, 5]"
            ]
          },
          "metadata": {},
          "execution_count": 19
        }
      ]
    }
  ]
}