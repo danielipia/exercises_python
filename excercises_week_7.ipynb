{
  "nbformat": 4,
  "nbformat_minor": 0,
  "metadata": {
    "colab": {
      "provenance": []
    },
    "kernelspec": {
      "name": "python3",
      "display_name": "Python 3"
    },
    "language_info": {
      "name": "python"
    }
  },
  "cells": [
    {
      "cell_type": "markdown",
      "source": [
        "Exercise 1 \\\n",
        "Create a class Person with:\n",
        "+ Attributes: name and age.\n",
        "+ A method introduce() that prints a message like \"Hi, my name is [name] and I am [age] years old.\""
      ],
      "metadata": {
        "id": "XnP8IBJhyODt"
      }
    },
    {
      "cell_type": "code",
      "execution_count": 1,
      "metadata": {
        "colab": {
          "base_uri": "https://localhost:8080/"
        },
        "id": "LAgfOaCBxMUH",
        "outputId": "877c5cd7-160d-4081-876f-4d662dcc0c62"
      },
      "outputs": [
        {
          "output_type": "stream",
          "name": "stdout",
          "text": [
            "Hi, my name is John and I am 30 years old.\n"
          ]
        }
      ],
      "source": [
        "class Person:\n",
        "    def __init__(self, name, age):\n",
        "        self.name = name\n",
        "        self.age = age\n",
        "    def introduce(self):\n",
        "        print(f\"Hi, my name is {self.name} and I am {self.age} years old.\")\n",
        "\n",
        "person = Person(\"John\", 30)\n",
        "person.introduce()"
      ]
    },
    {
      "cell_type": "markdown",
      "source": [
        "Exercise 2 \\\n",
        "Create a class Rectangle with:\n",
        "+ Attributes: length and width.\n",
        "+ A method area() that calculates and returns the area of the rectangle.\n",
        "+ A method perimeter() that calculates and returns the perimeter of the rectangle."
      ],
      "metadata": {
        "id": "DeH-9YKcy6Nk"
      }
    },
    {
      "cell_type": "code",
      "source": [
        "class Rectangle:\n",
        "    def __init__(self, length, width):\n",
        "        self.length = length\n",
        "        self.width = width\n",
        "    def area(self):\n",
        "        return self.length * self.width\n",
        "    def perimeter(self):\n",
        "        return 2*(self.length + self.width)\n",
        "\n",
        "rectangle = Rectangle(5, 10)\n",
        "print(rectangle.area())\n",
        "print(rectangle.perimeter())"
      ],
      "metadata": {
        "colab": {
          "base_uri": "https://localhost:8080/"
        },
        "id": "i1ei2-cry_aC",
        "outputId": "9071e921-554e-4978-cd82-c80810d73343"
      },
      "execution_count": 2,
      "outputs": [
        {
          "output_type": "stream",
          "name": "stdout",
          "text": [
            "50\n",
            "30\n"
          ]
        }
      ]
    },
    {
      "cell_type": "markdown",
      "source": [
        "Exercise 3 \\\n",
        "Write a function power(base, exponent=2) that:\n",
        "+ Takes two parameters: base (a number) and exponent (a number, default is 2).\n",
        "+ Returns the result of raising base to the power of exponent."
      ],
      "metadata": {
        "id": "U0pbY16mze5b"
      }
    },
    {
      "cell_type": "code",
      "source": [
        "def power(base, exponent=2):\n",
        "    return base ** exponent\n",
        "\n",
        "power(2, 3)\n",
        "power(5)"
      ],
      "metadata": {
        "colab": {
          "base_uri": "https://localhost:8080/"
        },
        "id": "4JD18NQjzKqf",
        "outputId": "739b7a04-274a-49c9-de38-a82218ce9e2e"
      },
      "execution_count": null,
      "outputs": [
        {
          "output_type": "execute_result",
          "data": {
            "text/plain": [
              "25"
            ]
          },
          "metadata": {},
          "execution_count": 10
        }
      ]
    },
    {
      "cell_type": "markdown",
      "source": [
        "Exercise 4 \\\n",
        "Write a function find_max(numbers) that:\n",
        "+ Takes a single parameter numbers (a list of integers or floats).\n",
        "+ Returns the largest number in the list."
      ],
      "metadata": {
        "id": "phI_flHl0TaO"
      }
    },
    {
      "cell_type": "code",
      "source": [
        "def find_max(numbers):\n",
        "    max_number = numbers[0]\n",
        "    for number in numbers:\n",
        "        if number > max_number:\n",
        "            max_number = number\n",
        "    return max_number\n",
        "\n",
        "find_max([1, 2, 3, 4, 5])"
      ],
      "metadata": {
        "colab": {
          "base_uri": "https://localhost:8080/"
        },
        "id": "8fCsVeT50Yfd",
        "outputId": "65911c9e-33ca-49d1-e983-3e2bff6e877a"
      },
      "execution_count": null,
      "outputs": [
        {
          "output_type": "execute_result",
          "data": {
            "text/plain": [
              "5"
            ]
          },
          "metadata": {},
          "execution_count": 12
        }
      ]
    },
    {
      "cell_type": "markdown",
      "source": [
        "Exercise 5 \\\n",
        "Create a class Point with:\n",
        "+ Attributes: x and y.\n",
        "+ A magic method str() to return a string representation of the point in the format \"(x, y)\".\n",
        "+ A magic method add() to add two points by summing their x and y coordinates."
      ],
      "metadata": {
        "id": "3hyCn6iz2uxW"
      }
    },
    {
      "cell_type": "code",
      "source": [
        "class Point:\n",
        "    def __init__(self, x, y):\n",
        "        self.x = x\n",
        "        self.y = y\n",
        "    def __str__(self):\n",
        "        return f'({self.x}, {self.y})'\n",
        "    def add(self, other):\n",
        "        return Point(self.x + other.x, self.y + other.y)\n",
        "\n",
        "point1 = Point(1, 2)\n",
        "point2 = Point(3, 4)\n",
        "point3 = point1.add(point2)\n",
        "\n",
        "f'point1: {point1}, point2: {point2}, point3: {point3}'"
      ],
      "metadata": {
        "colab": {
          "base_uri": "https://localhost:8080/",
          "height": 35
        },
        "id": "0njRuZvY26Cr",
        "outputId": "fd4fe2f9-c0a9-47fc-8fd4-537dc056c5d4"
      },
      "execution_count": 7,
      "outputs": [
        {
          "output_type": "execute_result",
          "data": {
            "text/plain": [
              "'point1: (1, 2), point2: (3, 4), point3: (4, 6)'"
            ],
            "application/vnd.google.colaboratory.intrinsic+json": {
              "type": "string"
            }
          },
          "metadata": {},
          "execution_count": 7
        }
      ]
    }
  ]
}