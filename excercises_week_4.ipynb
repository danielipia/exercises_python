{
  "nbformat": 4,
  "nbformat_minor": 0,
  "metadata": {
    "colab": {
      "provenance": []
    },
    "kernelspec": {
      "name": "python3",
      "display_name": "Python 3"
    },
    "language_info": {
      "name": "python"
    }
  },
  "cells": [
    {
      "cell_type": "markdown",
      "source": [
        "## EXERCISES N. 4\n",
        "\n",
        "**Exercise 1** \\\\\n",
        "Write a program that:\n",
        "+ Prompts the user to input a number.\n",
        "+ Uses a for loop to display its multiplication table up to 10."
      ],
      "metadata": {
        "id": "g_0ST9_gO3zT"
      }
    },
    {
      "cell_type": "code",
      "execution_count": null,
      "metadata": {
        "colab": {
          "base_uri": "https://localhost:8080/"
        },
        "id": "Tr5vR93-OilD",
        "outputId": "c36a19d4-3375-4f47-bcc1-b40aeff75574"
      },
      "outputs": [
        {
          "output_type": "stream",
          "name": "stdout",
          "text": [
            "Enter a number: 5\n",
            "5 x 1 = 5\n",
            "5 x 2 = 10\n",
            "5 x 3 = 15\n",
            "5 x 4 = 20\n",
            "5 x 5 = 25\n",
            "5 x 6 = 30\n",
            "5 x 7 = 35\n",
            "5 x 8 = 40\n",
            "5 x 9 = 45\n",
            "5 x 10 = 50\n"
          ]
        }
      ],
      "source": [
        "number = int(input(\"Enter a number: \"))\n",
        "\n",
        "for i in range(1, 11):\n",
        "    print(f\"{number} x {i} = {number * i}\")"
      ]
    },
    {
      "cell_type": "markdown",
      "source": [
        "## Exercise 2\n",
        "Write a program that: \\\\\n",
        "+ Uses a while loop to let the user guess a number (predefined in the program, e.g., 7).\n",
        "+ Provides feedback (\"Too high\", \"Too low\", or \"Correct\") and ends the loop when the user guesses correctly."
      ],
      "metadata": {
        "id": "_zkZqKi1PTuP"
      }
    },
    {
      "cell_type": "code",
      "source": [
        "number = int(input(\"Enter a number: \"))\n",
        "\n",
        "while number != 7:\n",
        "    if number > 7:\n",
        "        print(\"Too high\")\n",
        "    else:\n",
        "        print(\"Too low\")\n",
        "    number = int(input(\"Enter a number: \"))\n",
        "print(\"Correct\")\n"
      ],
      "metadata": {
        "colab": {
          "base_uri": "https://localhost:8080/"
        },
        "id": "u3BRWMYnPLRC",
        "outputId": "9ee313b4-f108-4e7e-b2bf-04a6b5587ca6"
      },
      "execution_count": null,
      "outputs": [
        {
          "output_type": "stream",
          "name": "stdout",
          "text": [
            "Enter a number: 58\n",
            "Too high\n",
            "Enter a number: 6\n",
            "Too low\n",
            "Enter a number: 7\n",
            "Correct\n"
          ]
        }
      ]
    },
    {
      "cell_type": "code",
      "source": [
        "number = 7\n",
        "\n",
        "while True:\n",
        "    guess = int(input(\"Enter a number: \"))\n",
        "    if guess == number:\n",
        "        print(\"Correct\")\n",
        "        break\n",
        "    elif guess > number:\n",
        "        print(\"Too high\")\n",
        "    else:\n",
        "        print(\"Too low\")\n"
      ],
      "metadata": {
        "colab": {
          "base_uri": "https://localhost:8080/"
        },
        "id": "nl9pck8BPvB4",
        "outputId": "57aa702a-909f-4baa-99b8-929e136ab9ac"
      },
      "execution_count": null,
      "outputs": [
        {
          "output_type": "stream",
          "name": "stdout",
          "text": [
            "Enter a number: 48\n",
            "Too high\n",
            "Enter a number: 6\n",
            "Too low\n",
            "Enter a number: 7\n",
            "Correct\n"
          ]
        }
      ]
    },
    {
      "cell_type": "markdown",
      "source": [
        "**Exercise 3**\n",
        "Write a program that: \\\\\n",
        "+ Prompts the user to enter a string.\n",
        "+ Uses a for loop to count and display the number of vowels (a, e, i, o, u) in the string."
      ],
      "metadata": {
        "id": "7vh-4UZ4QJNQ"
      }
    },
    {
      "cell_type": "code",
      "source": [
        "string = str(input(\"Enter a string: \"))\n",
        "vowels = \"aeiou\"\n",
        "count = 0\n",
        "\n",
        "for char in string:\n",
        "    if char in vowels:\n",
        "        count += 1\n",
        "print(f\"The number of vowels in the string is: {count}\")"
      ],
      "metadata": {
        "colab": {
          "base_uri": "https://localhost:8080/"
        },
        "id": "uRMngyNzQe1d",
        "outputId": "5c86f619-6db1-4b4d-c063-49b3d463462d"
      },
      "execution_count": null,
      "outputs": [
        {
          "output_type": "stream",
          "name": "stdout",
          "text": [
            "Enter a string: Hi my friend\n",
            "The number of vowels in the string is: 3\n"
          ]
        }
      ]
    },
    {
      "cell_type": "markdown",
      "source": [
        "**Exercise 4** \\\\\n",
        "Write a program that:\n",
        "+ Prompts the user to input a string.\n",
        "+ Uses a for loop to reverse the string and display the result."
      ],
      "metadata": {
        "id": "gVmjBsqvR3EZ"
      }
    },
    {
      "cell_type": "code",
      "source": [
        "string = str(input(\"Enter a string: \"))\n",
        "\n",
        "print(string[::-1])"
      ],
      "metadata": {
        "colab": {
          "base_uri": "https://localhost:8080/"
        },
        "id": "iYWUGZGSRg44",
        "outputId": "18f744e7-c308-4486-892a-15294bcb3963"
      },
      "execution_count": null,
      "outputs": [
        {
          "output_type": "stream",
          "name": "stdout",
          "text": [
            "Enter a string: hola\n",
            "aloh\n"
          ]
        }
      ]
    },
    {
      "cell_type": "code",
      "source": [
        "reverse = \"\"\n",
        "for char in string:\n",
        "    reverse = char + reverse\n",
        "print(reverse)"
      ],
      "metadata": {
        "colab": {
          "base_uri": "https://localhost:8080/"
        },
        "id": "E9k2nl1LSjRe",
        "outputId": "4f27ffc9-235f-41f4-e6d6-f50fcc44fd97"
      },
      "execution_count": null,
      "outputs": [
        {
          "output_type": "stream",
          "name": "stdout",
          "text": [
            "aloh\n"
          ]
        }
      ]
    },
    {
      "cell_type": "markdown",
      "source": [
        "**Exercise 5** \\\\\n",
        "Write a program that:\n",
        "+ Uses a for loop to iterate through numbers from 1 to 50.\n",
        "+ For multiples of 3, print \"Fizz\".\n",
        "+ For multiples of 5, print \"Buzz\".\n",
        "+ For multiples of both 3 and 5, print \"FizzBuzz\". \\\\\n",
        "Otherwise, print the number."
      ],
      "metadata": {
        "id": "NQI3Na9mUTYP"
      }
    },
    {
      "cell_type": "code",
      "source": [
        "for i in range(1,51):\n",
        "    if i % 3  == 0:\n",
        "        print('Fizz')\n",
        "        if i % 5 == 0:\n",
        "            print('FizzBuzz')\n",
        "    elif i % 5 == 0:\n",
        "        print('Buzz')\n",
        "    else:\n",
        "        print(i)"
      ],
      "metadata": {
        "colab": {
          "base_uri": "https://localhost:8080/"
        },
        "id": "7fzeO1_yUa4u",
        "outputId": "c18ed903-5ba7-407a-fce3-7aa5d818e68a"
      },
      "execution_count": null,
      "outputs": [
        {
          "output_type": "stream",
          "name": "stdout",
          "text": [
            "1\n",
            "2\n",
            "Fizz\n",
            "4\n",
            "Buzz\n",
            "Fizz\n",
            "7\n",
            "8\n",
            "Fizz\n",
            "Buzz\n",
            "11\n",
            "Fizz\n",
            "13\n",
            "14\n",
            "Fizz\n",
            "FizzBuzz\n",
            "16\n",
            "17\n",
            "Fizz\n",
            "19\n",
            "Buzz\n",
            "Fizz\n",
            "22\n",
            "23\n",
            "Fizz\n",
            "Buzz\n",
            "26\n",
            "Fizz\n",
            "28\n",
            "29\n",
            "Fizz\n",
            "FizzBuzz\n",
            "31\n",
            "32\n",
            "Fizz\n",
            "34\n",
            "Buzz\n",
            "Fizz\n",
            "37\n",
            "38\n",
            "Fizz\n",
            "Buzz\n",
            "41\n",
            "Fizz\n",
            "43\n",
            "44\n",
            "Fizz\n",
            "FizzBuzz\n",
            "46\n",
            "47\n",
            "Fizz\n",
            "49\n",
            "Buzz\n"
          ]
        }
      ]
    }
  ]
}