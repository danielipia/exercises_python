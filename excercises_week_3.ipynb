{
  "nbformat": 4,
  "nbformat_minor": 0,
  "metadata": {
    "colab": {
      "provenance": []
    },
    "kernelspec": {
      "name": "python3",
      "display_name": "Python 3"
    },
    "language_info": {
      "name": "python"
    }
  },
  "cells": [
    {
      "cell_type": "markdown",
      "source": [
        "## WEEK 3\n",
        "\n",
        "**Exercise 1** \\\\\n",
        "Write a program that:\n",
        "+ Asks the user for a year.\n",
        "+ Determines whether the year is a leap year. \\\\\n",
        "\n",
        "Hint: A leap year is divisible by 4 but not by 100 unless also divisible by 400.\n"
      ],
      "metadata": {
        "id": "fPHCTsARBdVq"
      }
    },
    {
      "cell_type": "code",
      "execution_count": null,
      "metadata": {
        "colab": {
          "base_uri": "https://localhost:8080/"
        },
        "id": "6nMP1xAHBWDp",
        "outputId": "8a536ca4-7985-4aa3-9547-088858d7e3c0"
      },
      "outputs": [
        {
          "output_type": "stream",
          "name": "stdout",
          "text": [
            "Enter a year: 185\n",
            "185 is not a leap year.\n"
          ]
        }
      ],
      "source": [
        "year = int(input(\"Enter a year: \"))\n",
        "\n",
        "if year % 4 == 0:\n",
        "    if year % 100 == 0:\n",
        "        if year % 400 == 0:\n",
        "            print(f\"{year} is a leap year.\")\n",
        "        else:\n",
        "            print(f\"{year} is not a leap year.\")\n",
        "    else:\n",
        "        print(f\"{year} is a leap year.\")\n",
        "else:\n",
        "    print(f\"{year} is not a leap year.\")"
      ]
    },
    {
      "cell_type": "markdown",
      "source": [
        "**Exercise 2** \\\\\n",
        "Write a program that: \\\\\n",
        "+ Prompts the user to input two numbers and an operator (+, -, *, /).\n",
        "+ Performs the operation and displays the result."
      ],
      "metadata": {
        "id": "dqC7JFPWB7iy"
      }
    },
    {
      "cell_type": "code",
      "source": [
        "number_1 = float(input(\"Enter the first number: \"))\n",
        "number_2 = float(input(\"Enter the second number: \"))\n",
        "operator = input(\"Enter the operator (+, -, *, /): \")\n",
        "\n",
        "while operator not in [\"+\", \"-\", \"*\", \"/\"]:\n",
        "    operator = input(\"Enter the operator (+, -, *, /): \")\n",
        "\n",
        "if operator == \"+\":\n",
        "    print(f\"{number_1} + {number_2} = {number_1 + number_2}\")\n",
        "elif operator == \"-\":\n",
        "    print(f\"{number_1} - {number_2} = {number_1 - number_2}\")\n",
        "elif operator == \"*\":\n",
        "    print(f\"{number_1} * {number_2} = {number_1 * number_2}\")\n",
        "elif operator == \"/\":\n",
        "    print(f\"{number_1} / {number_2} = {number_1 / number_2}\")"
      ],
      "metadata": {
        "colab": {
          "base_uri": "https://localhost:8080/"
        },
        "id": "gT-5OvX-IXUR",
        "outputId": "3030ed0b-9151-4361-c38c-cf954921f5d1"
      },
      "execution_count": null,
      "outputs": [
        {
          "output_type": "stream",
          "name": "stdout",
          "text": [
            "Enter the first number: 5.6\n",
            "Enter the second number: 4.2\n",
            "Enter the operator (+, -, *, /): ñ\n",
            "Enter the operator (+, -, *, /): +\n",
            "5.6 + 4.2 = 9.8\n"
          ]
        }
      ]
    },
    {
      "cell_type": "markdown",
      "source": [
        "**Exercise 3** \\\\\n",
        "Write a program that:\n",
        "+ Prompts the user to input a number.\n",
        "+ Classifies the number as positive, negative, or zero."
      ],
      "metadata": {
        "id": "fDAlUcuMJ2WI"
      }
    },
    {
      "cell_type": "code",
      "source": [
        "number = float(input(\"Enter a number: \"))\n",
        "\n",
        "if number > 0:\n",
        "    print(f\"{number} is positive.\")\n",
        "elif number < 0:\n",
        "    print(f\"{number} is negative.\")\n",
        "else:\n",
        "    print(f\"{number} is zero.\")"
      ],
      "metadata": {
        "colab": {
          "base_uri": "https://localhost:8080/"
        },
        "id": "PMAJtdv5Iveq",
        "outputId": "c97d2da5-a4a0-45be-bdd6-191e9dfc83f1"
      },
      "execution_count": null,
      "outputs": [
        {
          "output_type": "stream",
          "name": "stdout",
          "text": [
            "Enter a number: 5\n",
            "5.0 is positive.\n"
          ]
        }
      ]
    },
    {
      "cell_type": "markdown",
      "source": [
        "**Exercise 4** \\\\\n",
        "Write a program using match...case that:\n",
        "+ Asks the user to input a number (1-7).\n",
        "+ Outputs the corresponding day of the week (e.g., 1 for Monday, 7 for Sunday)."
      ],
      "metadata": {
        "id": "zFOCCgBpKz_F"
      }
    },
    {
      "cell_type": "code",
      "source": [
        "number = input(\"Enter a number (1-7): \")\n",
        "\n",
        "match number:\n",
        "    case \"1\":\n",
        "        print(\"Monday\")\n",
        "    case \"2\":\n",
        "        print(\"Tuesday\")\n",
        "    case \"3\":\n",
        "        print(\"Wednesday\")\n",
        "    case \"4\":\n",
        "        print(\"Thursday\")\n",
        "    case \"5\":\n",
        "        print(\"Friday\")\n",
        "    case \"6\":\n",
        "        print(\"Saturday\")\n",
        "    case \"7\":\n",
        "        print(\"Sunday\")\n",
        "    case _:\n",
        "        print(\"Invalid input\")"
      ],
      "metadata": {
        "colab": {
          "base_uri": "https://localhost:8080/"
        },
        "id": "as3nUd_3KJbj",
        "outputId": "163322d5-a9d0-4798-e241-d2892324ccc9"
      },
      "execution_count": null,
      "outputs": [
        {
          "output_type": "stream",
          "name": "stdout",
          "text": [
            "Enter a number (1-7): 8\n",
            "Invalid input\n"
          ]
        }
      ]
    },
    {
      "cell_type": "markdown",
      "source": [
        "**Exercise 5** \\\\\n",
        "Write a program that:\n",
        "+ Prompts the user to input a single character.\n",
        "+ Determines if the character is a vowel, consonant, digit, or special character."
      ],
      "metadata": {
        "id": "azETmC2LLcK5"
      }
    },
    {
      "cell_type": "code",
      "source": [
        "while True:\n",
        "    character = input(\"Enter a single character: \")\n",
        "\n",
        "    if len(character) == 1:\n",
        "        if character.isalpha():\n",
        "            if character.lower() in \"aeiou\":\n",
        "                print(f\"{character} is a vowel.\")\n",
        "            else:\n",
        "                print(f\"{character} is a consonant.\")\n",
        "        elif character.isdigit():\n",
        "            print(f\"{character} is a digit.\")\n",
        "        else:\n",
        "            print(f\"{character} is a special character.\")\n",
        "        break\n",
        "    else:\n",
        "        print(\"Invalid input. Please enter a single character.\")"
      ],
      "metadata": {
        "colab": {
          "base_uri": "https://localhost:8080/"
        },
        "id": "8FG3lzNJLJKz",
        "outputId": "31bc7452-2cdf-4f89-de96-3c3117e8c8c4"
      },
      "execution_count": null,
      "outputs": [
        {
          "output_type": "stream",
          "name": "stdout",
          "text": [
            "Enter a single character: 55\n",
            "Invalid input. Please enter a single character.\n",
            "Enter a single character: 4\n",
            "4 is a digit.\n"
          ]
        }
      ]
    }
  ]
}