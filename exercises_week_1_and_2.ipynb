{
  "nbformat": 4,
  "nbformat_minor": 0,
  "metadata": {
    "colab": {
      "provenance": []
    },
    "kernelspec": {
      "name": "python3",
      "display_name": "Python 3"
    },
    "language_info": {
      "name": "python"
    }
  },
  "cells": [
    {
      "cell_type": "markdown",
      "source": [
        "## EXERCISES N. 1"
      ],
      "metadata": {
        "id": "_5DKEBlPNbhS"
      }
    },
    {
      "cell_type": "markdown",
      "source": [
        "**Exercise 1** \\\\\n",
        "Write a program that:\n",
        "\n",
        "*   Asks the user for their current age.\n",
        "\n",
        "*   Calculates and displays their age 10 years from now.\n",
        "\n",
        "\n"
      ],
      "metadata": {
        "id": "7nWwUcOoNjjA"
      }
    },
    {
      "cell_type": "code",
      "execution_count": null,
      "metadata": {
        "colab": {
          "base_uri": "https://localhost:8080/"
        },
        "id": "ejKt9x5_NZ32",
        "outputId": "116495d2-f6b9-4db9-f466-a37cf42fe2da"
      },
      "outputs": [
        {
          "output_type": "stream",
          "name": "stdout",
          "text": [
            "How old ara you?24\n",
            "In ten years you will be 34\n"
          ]
        }
      ],
      "source": [
        "age = input(\"How old ara you?\")\n",
        "age_in_ten_years = int(age) + 10\n",
        "print(\"In ten years you will be\", age_in_ten_years)"
      ]
    },
    {
      "cell_type": "markdown",
      "source": [
        "**Exercise 2** \\\\\n",
        "Write a program that:\n",
        "\n",
        "*   Asks the user for their favorite color, food, and hobby.\n",
        "*   Outputs a summary sentence using their inputs.\n",
        "\n",
        "\n"
      ],
      "metadata": {
        "id": "jOzEgE8MOUli"
      }
    },
    {
      "cell_type": "code",
      "source": [
        "color = input(\"What is yout favorite color? \")\n",
        "food = input(\"What is yout favorite food? \")\n",
        "hobby = input(\"What is yout favorite hobby? \")\n",
        "print(f'I realy enjoy wear my {color} pants while I {hobby} and my mom is cooking {food}')"
      ],
      "metadata": {
        "colab": {
          "base_uri": "https://localhost:8080/"
        },
        "id": "Ci69RlaeOdf7",
        "outputId": "2bde7605-5249-491b-8983-e3792b4a694a"
      },
      "execution_count": null,
      "outputs": [
        {
          "output_type": "stream",
          "name": "stdout",
          "text": [
            "What is yout favorite color? red\n",
            "What is yout favorite food? apple\n",
            "What is yout favorite hobby? run\n",
            "I realy enjoy wear myred pants while I run and my mom is cooking apple\n",
            "I realy enjoy wear my red pants while I run and my mom is cooking apple\n"
          ]
        }
      ]
    },
    {
      "cell_type": "markdown",
      "source": [
        "**Exercise 3** \\\\\n",
        "Write a program that:\n",
        "* Prompts the user to enter a temperature in Celsius.\n",
        "* Converts it to Fahrenheit and displays the result."
      ],
      "metadata": {
        "id": "19aYLCz9QRiy"
      }
    },
    {
      "cell_type": "code",
      "source": [
        "temperature_celcius = input(\"How much grades (°C) is doing today? \")\n",
        "temperature_fahrenheit = (int(temperature_celcius) * 9/5) + 32\n",
        "print(\"The temperature is\", temperature_fahrenheit, \"°F\")"
      ],
      "metadata": {
        "colab": {
          "base_uri": "https://localhost:8080/"
        },
        "id": "9YyG46xRPNvk",
        "outputId": "9748c473-9c7a-4fd1-a607-ff1b5d69f5dc"
      },
      "execution_count": null,
      "outputs": [
        {
          "output_type": "stream",
          "name": "stdout",
          "text": [
            "How much grades (°C) is doing today? 40\n",
            "The temperature is 104.0 °F\n"
          ]
        }
      ]
    },
    {
      "cell_type": "markdown",
      "source": [
        "**Exercise 4** \\\\\n",
        "Write a program that:\n",
        "* Asks the user to guess a number between 1 and 10.\n",
        "* Outputs whether the guess is correct (assume the number is 7 for this exercise)."
      ],
      "metadata": {
        "id": "O2_XP8wyRY5r"
      }
    },
    {
      "cell_type": "code",
      "source": [
        "number = input('Give me a number between 1 and 10, please! ')\n",
        "\n",
        "if int(number) == 7:\n",
        "  print('You are right!')\n",
        "else:\n",
        "  print('You are wrong!')\n",
        "  number = input('Give me a number between 1 and 10, please! ')"
      ],
      "metadata": {
        "colab": {
          "base_uri": "https://localhost:8080/"
        },
        "id": "Om7NGuJDRdrM",
        "outputId": "f094ee7a-a63b-4a5c-eff1-88d1d6b9e60e"
      },
      "execution_count": null,
      "outputs": [
        {
          "output_type": "stream",
          "name": "stdout",
          "text": [
            "Give me a number between 1 and 10, please! 7\n",
            "You are right!\n"
          ]
        }
      ]
    },
    {
      "cell_type": "markdown",
      "source": [
        "**Exercise 5**\n",
        "Write a program that:\n",
        "* Asks the user to input a word and a number.\n",
        "* Prints the word repeated that number of times."
      ],
      "metadata": {
        "id": "wphY7TPUSN3X"
      }
    },
    {
      "cell_type": "code",
      "source": [
        "word = input(\"Write a word: \")\n",
        "number = input(\"How many times do you want to repeat the word? \")\n",
        "print((word + \" \") * int(number))"
      ],
      "metadata": {
        "colab": {
          "base_uri": "https://localhost:8080/"
        },
        "id": "xXWpZquIRyRT",
        "outputId": "a4450883-1a77-4dbd-d91e-dc7309ba4d4d"
      },
      "execution_count": null,
      "outputs": [
        {
          "output_type": "stream",
          "name": "stdout",
          "text": [
            "Write a word: sun\n",
            "How many times do you want repeat the word? 5\n",
            "sun sun sun sun sun \n"
          ]
        }
      ]
    },
    {
      "cell_type": "markdown",
      "source": [
        "##WEEK 2\n",
        "\n",
        "**Exercise 1** \\\\\n",
        "Write a program that:\n",
        "* Asks the user to enter a sentence.\n",
        "* Outputs the sentence in all uppercase, all lowercase, and with the first letter of each word capitalized."
      ],
      "metadata": {
        "id": "EggbBhLGCBtT"
      }
    },
    {
      "cell_type": "code",
      "source": [
        "sentence = input('Please, enter a sentence: ')\n",
        "print(sentence.upper())\n",
        "print(sentence.lower())\n",
        "print(sentence.title())"
      ],
      "metadata": {
        "id": "8NV_dw8BCI90"
      },
      "execution_count": null,
      "outputs": []
    },
    {
      "cell_type": "markdown",
      "source": [
        "**Exercise 1** \\\\\n",
        "\n",
        "Write a program that:\n",
        "* Asks the user to input two boolean values (`True` or  `False`).\n",
        "* Evaluates and displays the results of logical operations (and, or, not) between the two values."
      ],
      "metadata": {
        "id": "b8T-1OsiCPXo"
      }
    },
    {
      "cell_type": "code",
      "source": [
        "first_boolean = input('Please, enter a boolean value (True or False): ')\n",
        "second_boolean = input('Please, enter a boolean value (True or False): ')\n",
        "\n",
        "print(f'{first_boolean} AND {second_boolean} is',first_boolean and second_boolean)\n",
        "print(f'{first_boolean} OR {second_boolean} is',first_boolean or second_boolean)\n",
        "print(f'NOT {first_boolean} is',not first_boolean)\n",
        "print(f'NOT {second_boolean} is',not second_boolean)"
      ],
      "metadata": {
        "colab": {
          "base_uri": "https://localhost:8080/"
        },
        "id": "taMvF84iClKo",
        "outputId": "47c45897-2bef-4e55-fb06-81dbf65ed596"
      },
      "execution_count": null,
      "outputs": [
        {
          "output_type": "stream",
          "name": "stdout",
          "text": [
            "Please, enter a boolean value (True or False): True\n",
            "Please, enter a boolean value (True or False): True\n",
            "True AND True is True\n",
            "True OR True is True\n",
            "NOT True is False\n",
            "NOT True is False\n"
          ]
        }
      ]
    }
  ]
}